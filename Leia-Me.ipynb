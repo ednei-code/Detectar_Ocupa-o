{
 "cells": [
  {
   "cell_type": "markdown",
   "id": "42bc85d1",
   "metadata": {},
   "source": [
    "# ***Ednei Cunha Vicente - Cientista de Dados***\n"
   ]
  },
  {
   "cell_type": "markdown",
   "id": "54d12789",
   "metadata": {},
   "source": [
    "# Projeto - Detecção da Ocupação de um Ambiente a partir de Dados de Sensores."
   ]
  },
  {
   "cell_type": "markdown",
   "id": "52aad07b",
   "metadata": {},
   "source": [
    "A detecção de presença em um ambiente tem se mostrado uma tarefa com grande potencial para aumentar a eficiência energética de \n",
    "\n",
    "prédios e auxiliar em tecnologias remotas.\n",
    "\n",
    "Com a disponibilidade cada vez maior de sensores e tecnologias integradas, os prédios inteligente vêm evoluindo na maneira de \n",
    "\n",
    "interagir com usuários."
   ]
  },
  {
   "cell_type": "markdown",
   "id": "e8f527f1",
   "metadata": {},
   "source": [
    "Em edifícios residenciais e comerciais, a combinação de automação com aprendizado de máquina leva ao conceito de edifícios inteligentes (smart buildings). O sensor de ocupação\n",
    "\n",
    "é particularmente importante nesse ambiente, devido à sua comunicação direta com os seres humanos, que resulta na extração de padrões de comportamento. Esses padrões têm\n",
    "\n",
    "grande importância na análise das necessidades dos usuários e podem auxiliar, por exemplo,em situações de emergência fornecendo suporte à decisão, além de integrar sistemas que\n",
    "\n",
    "permitem a economia de energia, de recursos e em sistema de segurança e controle de\n",
    "\n",
    "anomalias"
   ]
  },
  {
   "cell_type": "markdown",
   "id": "9bd914df",
   "metadata": {},
   "source": [
    "# ***Objetivo***"
   ]
  },
  {
   "cell_type": "markdown",
   "id": "5e018170",
   "metadata": {},
   "source": [
    "O objetivo deste trabalho é investigar o desempenho de Algoritimos de Machine Learning, para  detecção e classificação da presença\n",
    "\n",
    "de ocupantes em ambientes inteligentes, utilizando dados de variáveis ambientais (níveis de CO2, luminosidade, temperatura e umidade) obtidas de sensores ambientais.\n",
    "\n",
    "Esse conjunto de dados foi obtido do repositório de aprendizado de máquina da Universidade da Califórnia, \n",
    "\n",
    "Irvine [Conjunto de dados de detecção de ocupação (UC Irvine)](https://archive.ics.uci.edu/ml/datasets/Occupancy+Detection+#).\n",
    "\n",
    "https://repositorio.unesp.br/bitstream/handle/11449/193623/vilela_db_me_ilha.pdf?sequence=3"
   ]
  },
  {
   "cell_type": "markdown",
   "id": "a1f5fb47",
   "metadata": {},
   "source": [
    "Este trabalho esta organizado em 2 cadernos(notebook).\n",
    "\n",
    "O primeiro - Inferência Estatística - \n",
    "\n",
    "*Análise Exploratórias nos Dados.\n",
    "\n",
    "*PréProcessamentos nos Dados.\n",
    "\n",
    "*Testes Estatísticos -  Encontrar relacionamento entre as variáveis."
   ]
  },
  {
   "cell_type": "markdown",
   "id": "e2046639",
   "metadata": {},
   "source": [
    "O segundo - Análise Preditiva\n",
    "\n",
    "*Primeira Versão do Modelo com Vários Algoritmos\n",
    "\n",
    "*Segunda Versão do Modelo com Remoção de Outliers e Padronização nos Dados.\n",
    "\n",
    "*Terceira Versão do Modelo com Seleção de Atributos."
   ]
  },
  {
   "cell_type": "markdown",
   "id": "ef50c2ba",
   "metadata": {},
   "source": [
    "# ***Conclusão***"
   ]
  },
  {
   "cell_type": "markdown",
   "id": "f7b2d37d",
   "metadata": {},
   "source": [
    "***Os resultados obtidos pelos modelos tem alta performance, considerando que os dados foram muito bem coletados; e tal não***\n",
    "\n",
    "***necessitaram de transformações que efetassem a sua originalidade.***"
   ]
  },
  {
   "cell_type": "markdown",
   "id": "3d4348b6",
   "metadata": {},
   "source": [
    "# ***FIM!***"
   ]
  }
 ],
 "metadata": {
  "kernelspec": {
   "display_name": "Python 3 (ipykernel)",
   "language": "python",
   "name": "python3"
  },
  "language_info": {
   "codemirror_mode": {
    "name": "ipython",
    "version": 3
   },
   "file_extension": ".py",
   "mimetype": "text/x-python",
   "name": "python",
   "nbconvert_exporter": "python",
   "pygments_lexer": "ipython3",
   "version": "3.7.11"
  }
 },
 "nbformat": 4,
 "nbformat_minor": 5
}
