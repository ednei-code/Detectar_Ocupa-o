{
 "cells": [
  {
   "cell_type": "markdown",
   "id": "09836723",
   "metadata": {},
   "source": [
    "# ***Ednei Cunha Vicente - Cientista de Dados***"
   ]
  },
  {
   "cell_type": "markdown",
   "id": "709b4e54",
   "metadata": {},
   "source": [
    "***Toda introdução, explicação sobre o projeto estão http://localhost:8888/notebooks/Downloads/kaggle/Detectar_Ocupacao/Leia-Me.ipynb***"
   ]
  },
  {
   "cell_type": "code",
   "execution_count": 1,
   "id": "f01ce3ec",
   "metadata": {},
   "outputs": [
    {
     "name": "stdout",
     "output_type": "stream",
     "text": [
      "Versão da Linguagem Python Usada Neste Jupyter Notebook: 3.7.11\n"
     ]
    }
   ],
   "source": [
    "# Versão da Linguagem Python\n",
    "from platform import python_version\n",
    "print('Versão da Linguagem Python Usada Neste Jupyter Notebook:', python_version())"
   ]
  },
  {
   "cell_type": "code",
   "execution_count": 2,
   "id": "15d41fcd",
   "metadata": {},
   "outputs": [],
   "source": [
    "#carregando pacotes\n",
    "from datetime import date\n",
    "import pandas as pd\n",
    "import pandas_profiling\n",
    "from pandas_profiling import ProfileReport\n",
    "from IPython.display import HTML\n",
    "import numpy as np\n",
    "import seaborn as sns\n",
    "import matplotlib.pyplot as plt\n",
    "%matplotlib inline\n",
    "\n",
    "#machine learning\n",
    "from sklearn.model_selection import train_test_split\n",
    "from sklearn import linear_model\n",
    "from sklearn.ensemble import RandomForestClassifier, VotingClassifier\n",
    "from sklearn.neighbors import KNeighborsClassifier\n",
    "\n",
    "\n",
    "#escala nos dados\n",
    "from sklearn.preprocessing import StandardScaler\n",
    "\n",
    "#pipeline\n",
    "from sklearn.pipeline import make_pipeline\n",
    "\n",
    "#metricas\n",
    "from yellowbrick.classifier import ClassificationReport\n",
    "from sklearn.metrics import r2_score\n",
    "from sklearn.metrics import precision_score, recall_score, accuracy_score, f1_score\n",
    "from sklearn.metrics import confusion_matrix, classification_report\n",
    "import scipy\n",
    "from scipy import stats\n",
    "import researchpy as rp\n",
    "from statsmodels.graphics.gofplots import qqplot\n",
    "import sys\n",
    "import warnings\n",
    "warnings.simplefilter(action='ignore', category=FutureWarning)\n",
    "warnings.filterwarnings(\"ignore\", category=FutureWarning)\n",
    "if not sys.warnoptions:\n",
    "    warnings.simplefilter(\"ignore\")"
   ]
  },
  {
   "cell_type": "code",
   "execution_count": 3,
   "id": "3ceedb37",
   "metadata": {},
   "outputs": [
    {
     "name": "stdout",
     "output_type": "stream",
     "text": [
      "Author: Ednei Cunha Vicente\n",
      "\n",
      "researchpy      : 0.3.2\n",
      "scipy           : 1.7.0\n",
      "sklearn         : 1.0.2\n",
      "numpy           : 1.20.3\n",
      "pandas          : 1.2.2\n",
      "matplotlib      : 3.4.2\n",
      "seaborn         : 0.11.2\n",
      "sys             : 3.7.11 (default, Jul 27 2021, 09:42:29) [MSC v.1916 64 bit (AMD64)]\n",
      "pandas_profiling: 3.1.0\n",
      "\n"
     ]
    }
   ],
   "source": [
    "# Versões dos pacotes usados neste jupyter notebook\n",
    "%reload_ext watermark\n",
    "%watermark -a \"Ednei Cunha Vicente\" --iversions"
   ]
  },
  {
   "cell_type": "code",
   "execution_count": 4,
   "id": "6e838a46",
   "metadata": {},
   "outputs": [],
   "source": [
    "df = pd.read_csv('novo_df.csv')"
   ]
  },
  {
   "cell_type": "code",
   "execution_count": 5,
   "id": "a8060812",
   "metadata": {},
   "outputs": [
    {
     "data": {
      "text/html": [
       "<div>\n",
       "<style scoped>\n",
       "    .dataframe tbody tr th:only-of-type {\n",
       "        vertical-align: middle;\n",
       "    }\n",
       "\n",
       "    .dataframe tbody tr th {\n",
       "        vertical-align: top;\n",
       "    }\n",
       "\n",
       "    .dataframe thead th {\n",
       "        text-align: right;\n",
       "    }\n",
       "</style>\n",
       "<table border=\"1\" class=\"dataframe\">\n",
       "  <thead>\n",
       "    <tr style=\"text-align: right;\">\n",
       "      <th></th>\n",
       "      <th>Temperature</th>\n",
       "      <th>Humidity</th>\n",
       "      <th>Light</th>\n",
       "      <th>CO2</th>\n",
       "      <th>HumidityRatio</th>\n",
       "      <th>Occupancy</th>\n",
       "    </tr>\n",
       "  </thead>\n",
       "  <tbody>\n",
       "    <tr>\n",
       "      <th>0</th>\n",
       "      <td>23.7000</td>\n",
       "      <td>26.272</td>\n",
       "      <td>585.200000</td>\n",
       "      <td>749.200000</td>\n",
       "      <td>0.004764</td>\n",
       "      <td>1</td>\n",
       "    </tr>\n",
       "    <tr>\n",
       "      <th>1</th>\n",
       "      <td>23.7180</td>\n",
       "      <td>26.290</td>\n",
       "      <td>578.400000</td>\n",
       "      <td>760.400000</td>\n",
       "      <td>0.004773</td>\n",
       "      <td>1</td>\n",
       "    </tr>\n",
       "    <tr>\n",
       "      <th>2</th>\n",
       "      <td>23.7300</td>\n",
       "      <td>26.230</td>\n",
       "      <td>572.666667</td>\n",
       "      <td>769.666667</td>\n",
       "      <td>0.004765</td>\n",
       "      <td>1</td>\n",
       "    </tr>\n",
       "    <tr>\n",
       "      <th>3</th>\n",
       "      <td>23.7225</td>\n",
       "      <td>26.125</td>\n",
       "      <td>493.750000</td>\n",
       "      <td>774.750000</td>\n",
       "      <td>0.004744</td>\n",
       "      <td>1</td>\n",
       "    </tr>\n",
       "    <tr>\n",
       "      <th>4</th>\n",
       "      <td>23.7540</td>\n",
       "      <td>26.200</td>\n",
       "      <td>488.600000</td>\n",
       "      <td>779.000000</td>\n",
       "      <td>0.004767</td>\n",
       "      <td>1</td>\n",
       "    </tr>\n",
       "  </tbody>\n",
       "</table>\n",
       "</div>"
      ],
      "text/plain": [
       "   Temperature  Humidity       Light         CO2  HumidityRatio  Occupancy\n",
       "0      23.7000    26.272  585.200000  749.200000       0.004764          1\n",
       "1      23.7180    26.290  578.400000  760.400000       0.004773          1\n",
       "2      23.7300    26.230  572.666667  769.666667       0.004765          1\n",
       "3      23.7225    26.125  493.750000  774.750000       0.004744          1\n",
       "4      23.7540    26.200  488.600000  779.000000       0.004767          1"
      ]
     },
     "execution_count": 5,
     "metadata": {},
     "output_type": "execute_result"
    }
   ],
   "source": [
    "df.head()"
   ]
  },
  {
   "cell_type": "markdown",
   "id": "32333522",
   "metadata": {},
   "source": [
    "***Testes Estatisticos deixaram claro uma grande colinearidade. Aplicarei técnicas para descobrir a importância das variáveis***"
   ]
  },
  {
   "cell_type": "markdown",
   "id": "af4dcbc1",
   "metadata": {},
   "source": [
    "***Importância dos Atributos com Regressao linear - Scala nos Dados - Metrica R-squared***"
   ]
  },
  {
   "cell_type": "code",
   "execution_count": 6,
   "id": "9d67a81c",
   "metadata": {},
   "outputs": [
    {
     "name": "stdout",
     "output_type": "stream",
     "text": [
      "Target:  Occupancy\n"
     ]
    }
   ],
   "source": [
    "# Variável target\n",
    "Target = 'Occupancy'\n",
    "print('Target: ', Target)"
   ]
  },
  {
   "cell_type": "code",
   "execution_count": 7,
   "id": "678b9e28",
   "metadata": {},
   "outputs": [
    {
     "name": "stdout",
     "output_type": "stream",
     "text": [
      "Full Features:  ['Temperature', 'Humidity', 'Light', 'CO2', 'HumidityRatio']\n"
     ]
    }
   ],
   "source": [
    "# No ponto atual, os atributos são selecionados manualmente com base na seleção de recursos. \n",
    "Features = [\"Temperature\",\"Humidity\", \"Light\",\"CO2\",\"HumidityRatio\"]\n",
    "print('Full Features: ', Features)"
   ]
  },
  {
   "cell_type": "code",
   "execution_count": 8,
   "id": "08a064a1",
   "metadata": {},
   "outputs": [
    {
     "name": "stdout",
     "output_type": "stream",
     "text": [
      "Conjunto de Atributos Usados    :  ['Temperature', 'Humidity', 'Light', 'CO2', 'HumidityRatio']\n",
      "Variável Target        :  Occupancy\n",
      "Shape do Dataset de Treino   :  (9933, 6)\n",
      "Shape do Dataset de Teste       :  (2484, 6)\n"
     ]
    }
   ],
   "source": [
    "# Dividindo o conjunto de dados em Conjunto de treinamento e Conjunto de teste\n",
    "x, y = train_test_split(df, \n",
    "                        test_size = 0.2, \n",
    "                        train_size = 0.8, \n",
    "                        random_state= 3)\n",
    "\n",
    "x1 = x[Features]    \n",
    "x2 = x[Target]      \n",
    "y1 = y[Features]    \n",
    "y2 = y[Target]      \n",
    "\n",
    "print('Conjunto de Atributos Usados    : ', Features)\n",
    "print('Variável Target        : ', Target)\n",
    "print('Shape do Dataset de Treino   : ', x.shape)\n",
    "print('Shape do Dataset de Teste       : ', y.shape)"
   ]
  },
  {
   "cell_type": "code",
   "execution_count": 9,
   "id": "c668f6e6",
   "metadata": {},
   "outputs": [
    {
     "data": {
      "text/html": [
       "<div>\n",
       "<style scoped>\n",
       "    .dataframe tbody tr th:only-of-type {\n",
       "        vertical-align: middle;\n",
       "    }\n",
       "\n",
       "    .dataframe tbody tr th {\n",
       "        vertical-align: top;\n",
       "    }\n",
       "\n",
       "    .dataframe thead th {\n",
       "        text-align: right;\n",
       "    }\n",
       "</style>\n",
       "<table border=\"1\" class=\"dataframe\">\n",
       "  <thead>\n",
       "    <tr style=\"text-align: right;\">\n",
       "      <th></th>\n",
       "      <th>Temperature</th>\n",
       "      <th>Humidity</th>\n",
       "      <th>Light</th>\n",
       "      <th>CO2</th>\n",
       "      <th>HumidityRatio</th>\n",
       "      <th>Occupancy</th>\n",
       "    </tr>\n",
       "  </thead>\n",
       "  <tbody>\n",
       "    <tr>\n",
       "      <th>1921</th>\n",
       "      <td>20.890</td>\n",
       "      <td>25.700000</td>\n",
       "      <td>0.0</td>\n",
       "      <td>581.750000</td>\n",
       "      <td>0.003923</td>\n",
       "      <td>0</td>\n",
       "    </tr>\n",
       "    <tr>\n",
       "      <th>115</th>\n",
       "      <td>22.890</td>\n",
       "      <td>28.100000</td>\n",
       "      <td>429.0</td>\n",
       "      <td>1087.500000</td>\n",
       "      <td>0.004853</td>\n",
       "      <td>1</td>\n",
       "    </tr>\n",
       "    <tr>\n",
       "      <th>2330</th>\n",
       "      <td>20.700</td>\n",
       "      <td>24.500000</td>\n",
       "      <td>0.0</td>\n",
       "      <td>473.250000</td>\n",
       "      <td>0.003695</td>\n",
       "      <td>0</td>\n",
       "    </tr>\n",
       "    <tr>\n",
       "      <th>8985</th>\n",
       "      <td>20.260</td>\n",
       "      <td>29.426667</td>\n",
       "      <td>0.0</td>\n",
       "      <td>732.333333</td>\n",
       "      <td>0.004323</td>\n",
       "      <td>0</td>\n",
       "    </tr>\n",
       "    <tr>\n",
       "      <th>6871</th>\n",
       "      <td>20.390</td>\n",
       "      <td>35.090000</td>\n",
       "      <td>89.5</td>\n",
       "      <td>496.750000</td>\n",
       "      <td>0.005204</td>\n",
       "      <td>0</td>\n",
       "    </tr>\n",
       "    <tr>\n",
       "      <th>...</th>\n",
       "      <td>...</td>\n",
       "      <td>...</td>\n",
       "      <td>...</td>\n",
       "      <td>...</td>\n",
       "      <td>...</td>\n",
       "      <td>...</td>\n",
       "    </tr>\n",
       "    <tr>\n",
       "      <th>9750</th>\n",
       "      <td>21.575</td>\n",
       "      <td>28.050000</td>\n",
       "      <td>464.0</td>\n",
       "      <td>897.500000</td>\n",
       "      <td>0.004469</td>\n",
       "      <td>1</td>\n",
       "    </tr>\n",
       "    <tr>\n",
       "      <th>4368</th>\n",
       "      <td>21.500</td>\n",
       "      <td>28.290000</td>\n",
       "      <td>0.0</td>\n",
       "      <td>564.000000</td>\n",
       "      <td>0.004487</td>\n",
       "      <td>0</td>\n",
       "    </tr>\n",
       "    <tr>\n",
       "      <th>7226</th>\n",
       "      <td>19.890</td>\n",
       "      <td>35.400000</td>\n",
       "      <td>0.0</td>\n",
       "      <td>522.000000</td>\n",
       "      <td>0.005089</td>\n",
       "      <td>0</td>\n",
       "    </tr>\n",
       "    <tr>\n",
       "      <th>11052</th>\n",
       "      <td>21.290</td>\n",
       "      <td>31.390000</td>\n",
       "      <td>433.0</td>\n",
       "      <td>982.000000</td>\n",
       "      <td>0.004918</td>\n",
       "      <td>1</td>\n",
       "    </tr>\n",
       "    <tr>\n",
       "      <th>3799</th>\n",
       "      <td>22.675</td>\n",
       "      <td>25.267500</td>\n",
       "      <td>592.5</td>\n",
       "      <td>1167.500000</td>\n",
       "      <td>0.004304</td>\n",
       "      <td>1</td>\n",
       "    </tr>\n",
       "  </tbody>\n",
       "</table>\n",
       "<p>2484 rows × 6 columns</p>\n",
       "</div>"
      ],
      "text/plain": [
       "       Temperature   Humidity  Light          CO2  HumidityRatio  Occupancy\n",
       "1921        20.890  25.700000    0.0   581.750000       0.003923          0\n",
       "115         22.890  28.100000  429.0  1087.500000       0.004853          1\n",
       "2330        20.700  24.500000    0.0   473.250000       0.003695          0\n",
       "8985        20.260  29.426667    0.0   732.333333       0.004323          0\n",
       "6871        20.390  35.090000   89.5   496.750000       0.005204          0\n",
       "...            ...        ...    ...          ...            ...        ...\n",
       "9750        21.575  28.050000  464.0   897.500000       0.004469          1\n",
       "4368        21.500  28.290000    0.0   564.000000       0.004487          0\n",
       "7226        19.890  35.400000    0.0   522.000000       0.005089          0\n",
       "11052       21.290  31.390000  433.0   982.000000       0.004918          1\n",
       "3799        22.675  25.267500  592.5  1167.500000       0.004304          1\n",
       "\n",
       "[2484 rows x 6 columns]"
      ]
     },
     "execution_count": 9,
     "metadata": {},
     "output_type": "execute_result"
    }
   ],
   "source": [
    "y"
   ]
  },
  {
   "cell_type": "code",
   "execution_count": 10,
   "id": "78038afa",
   "metadata": {},
   "outputs": [
    {
     "data": {
      "text/html": [
       "<div>\n",
       "<style scoped>\n",
       "    .dataframe tbody tr th:only-of-type {\n",
       "        vertical-align: middle;\n",
       "    }\n",
       "\n",
       "    .dataframe tbody tr th {\n",
       "        vertical-align: top;\n",
       "    }\n",
       "\n",
       "    .dataframe thead th {\n",
       "        text-align: right;\n",
       "    }\n",
       "</style>\n",
       "<table border=\"1\" class=\"dataframe\">\n",
       "  <thead>\n",
       "    <tr style=\"text-align: right;\">\n",
       "      <th></th>\n",
       "      <th>Temperature</th>\n",
       "      <th>Humidity</th>\n",
       "      <th>Light</th>\n",
       "      <th>CO2</th>\n",
       "      <th>HumidityRatio</th>\n",
       "      <th>Occupancy</th>\n",
       "    </tr>\n",
       "  </thead>\n",
       "  <tbody>\n",
       "    <tr>\n",
       "      <th>7404</th>\n",
       "      <td>19.790000</td>\n",
       "      <td>35.200000</td>\n",
       "      <td>0.000000</td>\n",
       "      <td>530.750000</td>\n",
       "      <td>0.005028</td>\n",
       "      <td>0</td>\n",
       "    </tr>\n",
       "    <tr>\n",
       "      <th>12065</th>\n",
       "      <td>20.856667</td>\n",
       "      <td>26.463333</td>\n",
       "      <td>0.000000</td>\n",
       "      <td>1371.333333</td>\n",
       "      <td>0.004031</td>\n",
       "      <td>0</td>\n",
       "    </tr>\n",
       "    <tr>\n",
       "      <th>5144</th>\n",
       "      <td>21.000000</td>\n",
       "      <td>25.500000</td>\n",
       "      <td>14.000000</td>\n",
       "      <td>522.000000</td>\n",
       "      <td>0.003918</td>\n",
       "      <td>0</td>\n",
       "    </tr>\n",
       "    <tr>\n",
       "      <th>11533</th>\n",
       "      <td>21.790000</td>\n",
       "      <td>34.090000</td>\n",
       "      <td>0.000000</td>\n",
       "      <td>1495.500000</td>\n",
       "      <td>0.005512</td>\n",
       "      <td>0</td>\n",
       "    </tr>\n",
       "    <tr>\n",
       "      <th>3700</th>\n",
       "      <td>20.500000</td>\n",
       "      <td>22.396667</td>\n",
       "      <td>9.333333</td>\n",
       "      <td>831.000000</td>\n",
       "      <td>0.003334</td>\n",
       "      <td>0</td>\n",
       "    </tr>\n",
       "  </tbody>\n",
       "</table>\n",
       "</div>"
      ],
      "text/plain": [
       "       Temperature   Humidity      Light          CO2  HumidityRatio  \\\n",
       "7404     19.790000  35.200000   0.000000   530.750000       0.005028   \n",
       "12065    20.856667  26.463333   0.000000  1371.333333       0.004031   \n",
       "5144     21.000000  25.500000  14.000000   522.000000       0.003918   \n",
       "11533    21.790000  34.090000   0.000000  1495.500000       0.005512   \n",
       "3700     20.500000  22.396667   9.333333   831.000000       0.003334   \n",
       "\n",
       "       Occupancy  \n",
       "7404           0  \n",
       "12065          0  \n",
       "5144           0  \n",
       "11533          0  \n",
       "3700           0  "
      ]
     },
     "execution_count": 10,
     "metadata": {},
     "output_type": "execute_result"
    }
   ],
   "source": [
    "x.head()"
   ]
  },
  {
   "cell_type": "code",
   "execution_count": 11,
   "id": "c0f6f26c",
   "metadata": {},
   "outputs": [
    {
     "data": {
      "text/plain": [
       "LinearRegression(normalize=False)"
      ]
     },
     "execution_count": 11,
     "metadata": {},
     "output_type": "execute_result"
    }
   ],
   "source": [
    "# Coletando x e y\n",
    "x = df.iloc[:,:-1]\n",
    "y = df['Occupancy'].values\n",
    "\n",
    "# Criando um modelo de aqui é regressao\n",
    "modelo = linear_model.LinearRegression(normalize=False, fit_intercept=True)\n",
    "\n",
    "# Treinando o modelo com dados não padronizados (em escalas diferentes)\n",
    "modelo.fit(x,y)"
   ]
  },
  {
   "cell_type": "code",
   "execution_count": 12,
   "id": "362b0630",
   "metadata": {},
   "outputs": [
    {
     "name": "stdout",
     "output_type": "stream",
     "text": [
      "1891.539 HumidityRatio\n",
      " 0.593 Temperature\n",
      " 0.287 Humidity\n",
      " 0.002 Light\n",
      " 0.000 CO2\n"
     ]
    }
   ],
   "source": [
    "# Imprimindo os coeficientes e as variáveis(variaveis em ordem de importancia)\n",
    "for coef, var in sorted(zip(map(abs, modelo.coef_), df.columns[:-1]), reverse = True):\n",
    "    print (\"%6.3f %s\" % (coef,var))"
   ]
  },
  {
   "cell_type": "markdown",
   "id": "61de7d71",
   "metadata": {},
   "source": [
    "***Pradronização dos Dados***"
   ]
  },
  {
   "cell_type": "code",
   "execution_count": 13,
   "id": "d1d3ba5e",
   "metadata": {},
   "outputs": [
    {
     "data": {
      "text/plain": [
       "Pipeline(steps=[('standardscaler', StandardScaler()),\n",
       "                ('linearregression', LinearRegression(normalize=False))])"
      ]
     },
     "execution_count": 13,
     "metadata": {},
     "output_type": "execute_result"
    }
   ],
   "source": [
    "scaler = StandardScaler()\n",
    "scaler_pipe = make_pipeline(StandardScaler(), modelo)\n",
    "scaler_pipe"
   ]
  },
  {
   "cell_type": "code",
   "execution_count": 14,
   "id": "5fc370b2",
   "metadata": {},
   "outputs": [
    {
     "data": {
      "text/plain": [
       "Pipeline(steps=[('standardscaler', StandardScaler()),\n",
       "                ('linearregression', LinearRegression(normalize=False))])"
      ]
     },
     "execution_count": 14,
     "metadata": {},
     "output_type": "execute_result"
    }
   ],
   "source": [
    "scaler_pipe.fit(x,y)"
   ]
  },
  {
   "cell_type": "code",
   "execution_count": 15,
   "id": "bf3eaf09",
   "metadata": {},
   "outputs": [
    {
     "name": "stdout",
     "output_type": "stream",
     "text": [
      " 1.182 Humidity\n",
      " 1.126 HumidityRatio\n",
      " 0.615 Temperature\n",
      " 0.443 Light\n",
      " 0.018 CO2\n"
     ]
    }
   ],
   "source": [
    "# Imprimindo os coeficientes e as variáveis(variaveis em ordem de importancia)\n",
    "for coef, var in sorted(zip(map(abs, scaler_pipe.steps[1][1].coef_), df.columns[:-1]), reverse = True):\n",
    "    print (\"%6.3f %s\" % (coef,var))"
   ]
  },
  {
   "cell_type": "markdown",
   "id": "853eecdc",
   "metadata": {},
   "source": [
    "***R-Squared***"
   ]
  },
  {
   "cell_type": "code",
   "execution_count": 16,
   "id": "44e4e2df",
   "metadata": {},
   "outputs": [
    {
     "name": "stdout",
     "output_type": "stream",
     "text": [
      "Coeficiente R2: 0.891\n"
     ]
    }
   ],
   "source": [
    "def r2_sq(x,y):\n",
    "    return r2_score(y, modelo.fit(x,y).predict(x))\n",
    "print('Coeficiente R2: %0.3f' %  r2_sq(x,y))"
   ]
  },
  {
   "cell_type": "code",
   "execution_count": 17,
   "id": "ca0d97c7",
   "metadata": {},
   "outputs": [
    {
     "name": "stdout",
     "output_type": "stream",
     "text": [
      " 0.479 Light\n",
      " 0.024 Temperature\n",
      " 0.018 Humidity\n",
      " 0.018 HumidityRatio\n",
      " 0.001 CO2\n"
     ]
    }
   ],
   "source": [
    "# Gera o impacto de cada atributo no R2\n",
    "r2_impact = list()\n",
    "for j in range(x.shape[1]):\n",
    "    selection = [i for i in range(x.shape[1]) if i!=j]\n",
    "    r2_impact.append(((r2_sq(x,y) - r2_sq(x.values[:,selection],y)), df.columns[j]))\n",
    "    \n",
    "for imp, varname in sorted(r2_impact, reverse = True):\n",
    "    print ('%6.3f %s' %  (imp, varname))"
   ]
  },
  {
   "cell_type": "markdown",
   "id": "5e93b1c0",
   "metadata": {},
   "source": [
    "# ***Criação de Modelos Preditivos com Vários Algoritimos***"
   ]
  },
  {
   "cell_type": "markdown",
   "id": "4441bb8c",
   "metadata": {},
   "source": [
    "***Regressao Logistica***"
   ]
  },
  {
   "cell_type": "code",
   "execution_count": 18,
   "id": "c00b3570",
   "metadata": {},
   "outputs": [
    {
     "name": "stdout",
     "output_type": "stream",
     "text": [
      "Target:  Occupancy\n",
      "Full Features:  ['Temperature', 'Humidity', 'Light', 'CO2', 'HumidityRatio']\n",
      "Conjunto de Atributos Usados    :  ['Temperature', 'Humidity', 'Light', 'CO2', 'HumidityRatio']\n",
      "Variável Target        :  Occupancy\n",
      "Shape do Dataset de Treino   :  (9933, 6)\n",
      "Shape do Dataset de Teste       :  (2484, 6)\n"
     ]
    }
   ],
   "source": [
    "# Variável target\n",
    "Target = 'Occupancy'\n",
    "print('Target: ', Target)\n",
    "\n",
    "#classes\n",
    "Classes = df['Occupancy'].unique()\n",
    "\n",
    "\n",
    "# No ponto atual, os atributos são selecionados manualmente com base na seleção de recursos. \n",
    "Features = [\"Temperature\",\"Humidity\", \"Light\",\"CO2\",\"HumidityRatio\"]\n",
    "print('Full Features: ', Features)\n",
    "\n",
    "# Dividindo o conjunto de dados em Conjunto de treinamento e Conjunto de teste\n",
    "x, y = train_test_split(df, \n",
    "                        test_size = 0.2, \n",
    "                        train_size = 0.8, \n",
    "                        random_state= 3)\n",
    "\n",
    "x1 = x[Features]    \n",
    "x2 = x[Target]      \n",
    "y1 = y[Features]    \n",
    "y2 = y[Target]      \n",
    "\n",
    "print('Conjunto de Atributos Usados    : ', Features)\n",
    "print('Variável Target        : ', Target)\n",
    "print('Shape do Dataset de Treino   : ', x.shape)\n",
    "print('Shape do Dataset de Teste       : ', y.shape)"
   ]
  },
  {
   "cell_type": "code",
   "execution_count": 19,
   "id": "cfcd443d",
   "metadata": {},
   "outputs": [],
   "source": [
    "#model create\n",
    "lr_model = linear_model.LogisticRegression()\n",
    "\n",
    "#training\n",
    "lr_model.fit(X= x1,\n",
    "           y=x2)\n",
    "\n",
    "# Prediction\n",
    "result = lr_model.predict(y[Features])"
   ]
  },
  {
   "cell_type": "code",
   "execution_count": 20,
   "id": "ea5ffdc5",
   "metadata": {},
   "outputs": [
    {
     "name": "stdout",
     "output_type": "stream",
     "text": [
      "\n",
      "========== Métricas do Modelo Logistic Regression ==========\n",
      "Accuracy    :  0.9919484702093397\n",
      "Recall      :  0.9919484702093397\n",
      "Precision   :  0.9920843718779455\n",
      "F1 Score    :  0.9919484702093397\n",
      "Confusion Matrix:\n",
      " \n",
      "[[1821   17]\n",
      " [   3  643]]\n"
     ]
    }
   ],
   "source": [
    "# Avaliação do Modelo\n",
    "ac_sc = accuracy_score(y2, result)\n",
    "rc_sc = recall_score(y2, result, average=\"weighted\")\n",
    "pr_sc = precision_score(y2, result, average=\"weighted\")\n",
    "f1_sc = f1_score(y2, result, average='micro')\n",
    "confusion_m = confusion_matrix(y2, result)\n",
    "\n",
    "print(\"\\n========== Métricas do Modelo Logistic Regression ==========\")\n",
    "print(\"Accuracy    : \", ac_sc)\n",
    "print(\"Recall      : \", rc_sc)\n",
    "print(\"Precision   : \", pr_sc)\n",
    "print(\"F1 Score    : \", f1_sc)\n",
    "print(\"Confusion Matrix:\\n \")\n",
    "print(confusion_m)"
   ]
  },
  {
   "cell_type": "code",
   "execution_count": 21,
   "id": "ba6e60ae",
   "metadata": {},
   "outputs": [
    {
     "name": "stdout",
     "output_type": "stream",
     "text": [
      "================= Relatório de Classificação =================\n",
      "\n",
      "              precision    recall  f1-score   support\n",
      "\n",
      "           0       1.00      0.99      0.99      1838\n",
      "           1       0.97      1.00      0.98       646\n",
      "\n",
      "    accuracy                           0.99      2484\n",
      "   macro avg       0.99      0.99      0.99      2484\n",
      "weighted avg       0.99      0.99      0.99      2484\n",
      "\n"
     ]
    },
    {
     "data": {
      "image/png": "[encoded data removed]",
      "text/plain": [
       "<Figure size 576x396 with 2 Axes>"
      ]
     },
     "metadata": {},
     "output_type": "display_data"
    }
   ],
   "source": [
    "# Relatório de Classificação\n",
    "target_names = Classes\n",
    "visualizer = ClassificationReport(lr_model, classes=['Nao Ocupado','Ocupado'],cmap=\"YlGn\")\n",
    "visualizer.fit(X=x1, y=x2)    \n",
    "visualizer.score(y1, y2)       \n",
    "\n",
    "print('================= Relatório de Classificação =================')\n",
    "print('')\n",
    "print(classification_report(y2, result))\n",
    "\n",
    "g = visualizer.poof()   "
   ]
  },
  {
   "cell_type": "markdown",
   "id": "9bb7cc5d",
   "metadata": {},
   "source": [
    "***Randon Forest Classifier***"
   ]
  },
  {
   "cell_type": "code",
   "execution_count": 22,
   "id": "b79b9a96",
   "metadata": {},
   "outputs": [],
   "source": [
    "#model create\n",
    "rf_model = RandomForestClassifier(n_estimators=70, # Number of trees\n",
    "                                  min_samples_split = 30,\n",
    "                                  bootstrap = True, \n",
    "                                  max_depth = 50, \n",
    "                                  min_samples_leaf = 25)\n",
    "\n",
    "#training\n",
    "rf_model.fit(X= x1,\n",
    "           y=x2)\n",
    "\n",
    "# Prediction\n",
    "result_1 = rf_model.predict(y[Features])"
   ]
  },
  {
   "cell_type": "code",
   "execution_count": 23,
   "id": "dc4fe121",
   "metadata": {},
   "outputs": [
    {
     "name": "stdout",
     "output_type": "stream",
     "text": [
      "\n",
      "========== Métricas do Modelo Random Forest ==========\n",
      "Accuracy    :  0.9931561996779388\n",
      "Recall      :  0.9931561996779388\n",
      "Precision   :  0.9932990571810377\n",
      "F1 Score    :  0.9931561996779388\n",
      "Confusion Matrix:\n",
      " \n",
      "[[1822   16]\n",
      " [   1  645]]\n"
     ]
    }
   ],
   "source": [
    "# Avaliação do Modelo\n",
    "ac_sc = accuracy_score(y2, result_1)\n",
    "rc_sc = recall_score(y2, result_1, average=\"weighted\")\n",
    "pr_sc = precision_score(y2, result_1, average=\"weighted\")\n",
    "f1_sc = f1_score(y2, result_1, average='micro')\n",
    "confusion_m = confusion_matrix(y2, result_1)\n",
    "\n",
    "print(\"\\n========== Métricas do Modelo Random Forest ==========\")\n",
    "print(\"Accuracy    : \", ac_sc)\n",
    "print(\"Recall      : \", rc_sc)\n",
    "print(\"Precision   : \", pr_sc)\n",
    "print(\"F1 Score    : \", f1_sc)\n",
    "print(\"Confusion Matrix:\\n \")\n",
    "print(confusion_m)"
   ]
  },
  {
   "cell_type": "code",
   "execution_count": 24,
   "id": "508f7f59",
   "metadata": {},
   "outputs": [
    {
     "name": "stdout",
     "output_type": "stream",
     "text": [
      "================= Relatório de Classificação =================\n",
      "\n",
      "              precision    recall  f1-score   support\n",
      "\n",
      "           0       1.00      0.99      1.00      1838\n",
      "           1       0.98      1.00      0.99       646\n",
      "\n",
      "    accuracy                           0.99      2484\n",
      "   macro avg       0.99      0.99      0.99      2484\n",
      "weighted avg       0.99      0.99      0.99      2484\n",
      "\n"
     ]
    },
    {
     "data": {
      "image/png": "[encoded data removed]",
      "text/plain": [
       "<Figure size 576x396 with 2 Axes>"
      ]
     },
     "metadata": {},
     "output_type": "display_data"
    }
   ],
   "source": [
    "# Relatório de Classificação\n",
    "target_names = Classes\n",
    "visualizer = ClassificationReport(rf_model, classes=['Nao Ocupado','Ocupado'],cmap=\"YlGn\")\n",
    "visualizer.fit(X=x1, y=x2)    \n",
    "visualizer.score(y1, y2)       \n",
    "\n",
    "print('================= Relatório de Classificação =================')\n",
    "print('')\n",
    "print(classification_report(y2, result_1))\n",
    "\n",
    "g = visualizer.poof() "
   ]
  },
  {
   "cell_type": "markdown",
   "id": "1cdd6e39",
   "metadata": {},
   "source": [
    "***KNeighbors KNN***"
   ]
  },
  {
   "cell_type": "code",
   "execution_count": 25,
   "id": "47d45781",
   "metadata": {},
   "outputs": [],
   "source": [
    "# KNN\n",
    "knn_model = KNeighborsClassifier(n_neighbors=3)\n",
    "\n",
    "# Model Training\n",
    "knn_model.fit(X=x1, y=x2)\n",
    "\n",
    "# Prediction\n",
    "result_2 = knn_model.predict(y[Features])"
   ]
  },
  {
   "cell_type": "code",
   "execution_count": 26,
   "id": "a8a6658b",
   "metadata": {},
   "outputs": [
    {
     "name": "stdout",
     "output_type": "stream",
     "text": [
      "========== K-Nearest Neighbors ==========\n",
      "Accuracy    :  0.9951690821256038\n",
      "Recall      :  0.9951690821256038\n",
      "Precision   :  0.9951853891581738\n",
      "F1 Score    :  0.9951690821256038\n",
      "Confusion Matrix: \n",
      "\n",
      "[[1821   17]\n",
      " [   3  643]]\n"
     ]
    }
   ],
   "source": [
    "# Model Evaluation\n",
    "ac_sc = accuracy_score(y2, result_2)\n",
    "rc_sc = recall_score(y2, result_2, average=\"weighted\")\n",
    "pr_sc = precision_score(y2, result_2, average=\"weighted\")\n",
    "f1_sc = f1_score(y2, result_2, average='micro')\n",
    "confusion_m = confusion_matrix(y2, result)\n",
    "\n",
    "print(\"========== K-Nearest Neighbors ==========\")\n",
    "print(\"Accuracy    : \", ac_sc)\n",
    "print(\"Recall      : \", rc_sc)\n",
    "print(\"Precision   : \", pr_sc)\n",
    "print(\"F1 Score    : \", f1_sc)\n",
    "print(\"Confusion Matrix: \\n\")\n",
    "print(confusion_m)"
   ]
  },
  {
   "cell_type": "code",
   "execution_count": 27,
   "id": "a4ab6430",
   "metadata": {},
   "outputs": [
    {
     "name": "stdout",
     "output_type": "stream",
     "text": [
      "================= Relatório de Classificação =================\n",
      "\n",
      "              precision    recall  f1-score   support\n",
      "\n",
      "           0       1.00      1.00      1.00      1838\n",
      "           1       0.99      0.99      0.99       646\n",
      "\n",
      "    accuracy                           1.00      2484\n",
      "   macro avg       0.99      0.99      0.99      2484\n",
      "weighted avg       1.00      1.00      1.00      2484\n",
      "\n"
     ]
    },
    {
     "data": {
      "image/png": "[encoded data removed]",
      "text/plain": [
       "<Figure size 576x396 with 2 Axes>"
      ]
     },
     "metadata": {},
     "output_type": "display_data"
    }
   ],
   "source": [
    "# Relatório de Classificação\n",
    "target_names = Classes\n",
    "visualizer = ClassificationReport(knn_model, classes=['Nao Ocupado','Ocupado'],cmap=\"YlGn\")\n",
    "visualizer.fit(X=x1, y=x2)    \n",
    "visualizer.score(y1, y2)       \n",
    "\n",
    "print('================= Relatório de Classificação =================')\n",
    "print('')\n",
    "print(classification_report(y2, result_2))\n",
    "\n",
    "g = visualizer.poof() "
   ]
  },
  {
   "cell_type": "markdown",
   "id": "012dd2fd",
   "metadata": {},
   "source": [
    "***Voting Classifier***"
   ]
  },
  {
   "cell_type": "code",
   "execution_count": 28,
   "id": "eae4e60d",
   "metadata": {},
   "outputs": [],
   "source": [
    "# Ensemble Voting Model\n",
    "# Combinando 3 modelos para criar um modelo Ensemble\n",
    "\n",
    "# Create Model with configuration\n",
    "eclf1 = VotingClassifier(estimators=[('knn', knn_model), \n",
    "                                     ('rf', rf_model), \n",
    "                                     ('lr', lr_model)], \n",
    "                         weights=[1,1,1],\n",
    "                         flatten_transform=True)\n",
    "\n",
    "eclf1 = eclf1.fit(X=x1, y=x2)   \n",
    "\n",
    "# Prediction\n",
    "result_03 = eclf1.predict(y[Features])"
   ]
  },
  {
   "cell_type": "code",
   "execution_count": 29,
   "id": "5f7d8795",
   "metadata": {},
   "outputs": [
    {
     "name": "stdout",
     "output_type": "stream",
     "text": [
      "============= Ensemble Voting =============\n",
      "Accuracy    :  0.9931561996779388\n",
      "Recall      :  0.9931561996779388\n",
      "Precision   :  0.9932990571810377\n",
      "F1 Score    :  0.9919484702093397\n",
      "Confusion Matrix: \n",
      "\n",
      "[[1822   16]\n",
      " [   1  645]]\n"
     ]
    }
   ],
   "source": [
    "# Avaliação do Modelo\n",
    "ac_sc = accuracy_score(y2, result_03)\n",
    "rc_sc = recall_score(y2, result_03, average=\"weighted\")\n",
    "pr_sc = precision_score(y2, result_03, average=\"weighted\")\n",
    "f1_sc = f1_score(y2, result, average='micro')\n",
    "confusion_m = confusion_matrix(y2, result_03)\n",
    "\n",
    "print(\"============= Ensemble Voting =============\")\n",
    "print(\"Accuracy    : \", ac_sc)\n",
    "print(\"Recall      : \", rc_sc)\n",
    "print(\"Precision   : \", pr_sc)\n",
    "print(\"F1 Score    : \", f1_sc)\n",
    "print(\"Confusion Matrix: \\n\")\n",
    "print(confusion_m)"
   ]
  },
  {
   "cell_type": "code",
   "execution_count": 30,
   "id": "dbb4845c",
   "metadata": {},
   "outputs": [
    {
     "name": "stdout",
     "output_type": "stream",
     "text": [
      "================= Relatório de Classificação =================\n",
      "\n",
      "              precision    recall  f1-score   support\n",
      "\n",
      "           0       1.00      0.99      1.00      1838\n",
      "           1       0.98      1.00      0.99       646\n",
      "\n",
      "    accuracy                           0.99      2484\n",
      "   macro avg       0.99      0.99      0.99      2484\n",
      "weighted avg       0.99      0.99      0.99      2484\n",
      "\n"
     ]
    },
    {
     "data": {
      "image/png": "[encoded data removed]",
      "text/plain": [
       "<Figure size 576x396 with 2 Axes>"
      ]
     },
     "metadata": {},
     "output_type": "display_data"
    }
   ],
   "source": [
    "# Relatório de Classificação\n",
    "target_names = Classes\n",
    "visualizer = ClassificationReport(eclf1,  classes=['Nao Ocupado','Ocupado'],cmap=\"YlGn\")\n",
    "visualizer.fit(X=x1, y=x2)     \n",
    "visualizer.score(y1, y2)      \n",
    "\n",
    "print('================= Relatório de Classificação =================')\n",
    "print('')\n",
    "print(classification_report(y2, result_03))\n",
    "\n",
    "g = visualizer.poof() "
   ]
  },
  {
   "cell_type": "markdown",
   "id": "eb70009f",
   "metadata": {},
   "source": [
    "# ***Aplicar Escala nos Dados***"
   ]
  },
  {
   "cell_type": "markdown",
   "id": "4dfaa893",
   "metadata": {},
   "source": [
    "***Além de aplicar escala, resolvi remover outlier das colunas CO2 e Ligth.***"
   ]
  },
  {
   "cell_type": "code",
   "execution_count": 31,
   "id": "249ece33",
   "metadata": {},
   "outputs": [
    {
     "data": {
      "text/plain": [
       "<AxesSubplot:xlabel='CO2'>"
      ]
     },
     "execution_count": 31,
     "metadata": {},
     "output_type": "execute_result"
    },
    {
     "data": {
      "image/png": "[encoded data removed]",
      "text/plain": [
       "<Figure size 576x396 with 1 Axes>"
      ]
     },
     "metadata": {},
     "output_type": "display_data"
    }
   ],
   "source": [
    "sns.boxplot(df[\"CO2\"])"
   ]
  },
  {
   "cell_type": "code",
   "execution_count": 32,
   "id": "637eb6ee",
   "metadata": {},
   "outputs": [
    {
     "data": {
      "text/plain": [
       "<AxesSubplot:xlabel='Light'>"
      ]
     },
     "execution_count": 32,
     "metadata": {},
     "output_type": "execute_result"
    },
    {
     "data": {
      "image/png": "[encoded data removed]",
      "text/plain": [
       "<Figure size 576x396 with 1 Axes>"
      ]
     },
     "metadata": {},
     "output_type": "display_data"
    }
   ],
   "source": [
    "sns.boxplot(df[\"Light\"])"
   ]
  },
  {
   "cell_type": "code",
   "execution_count": 33,
   "id": "9093bd37",
   "metadata": {},
   "outputs": [
    {
     "data": {
      "text/html": [
       "<div>\n",
       "<style scoped>\n",
       "    .dataframe tbody tr th:only-of-type {\n",
       "        vertical-align: middle;\n",
       "    }\n",
       "\n",
       "    .dataframe tbody tr th {\n",
       "        vertical-align: top;\n",
       "    }\n",
       "\n",
       "    .dataframe thead th {\n",
       "        text-align: right;\n",
       "    }\n",
       "</style>\n",
       "<table border=\"1\" class=\"dataframe\">\n",
       "  <thead>\n",
       "    <tr style=\"text-align: right;\">\n",
       "      <th></th>\n",
       "      <th>Temperature</th>\n",
       "      <th>Humidity</th>\n",
       "      <th>Light</th>\n",
       "      <th>CO2</th>\n",
       "      <th>HumidityRatio</th>\n",
       "      <th>Occupancy</th>\n",
       "    </tr>\n",
       "  </thead>\n",
       "  <tbody>\n",
       "    <tr>\n",
       "      <th>2908</th>\n",
       "      <td>21.323333</td>\n",
       "      <td>29.330000</td>\n",
       "      <td>0.0</td>\n",
       "      <td>1760.00</td>\n",
       "      <td>0.004602</td>\n",
       "      <td>0</td>\n",
       "    </tr>\n",
       "    <tr>\n",
       "      <th>11471</th>\n",
       "      <td>22.150000</td>\n",
       "      <td>34.545000</td>\n",
       "      <td>433.0</td>\n",
       "      <td>1757.75</td>\n",
       "      <td>0.005712</td>\n",
       "      <td>1</td>\n",
       "    </tr>\n",
       "    <tr>\n",
       "      <th>11472</th>\n",
       "      <td>22.166667</td>\n",
       "      <td>34.496667</td>\n",
       "      <td>433.0</td>\n",
       "      <td>1779.00</td>\n",
       "      <td>0.005709</td>\n",
       "      <td>1</td>\n",
       "    </tr>\n",
       "    <tr>\n",
       "      <th>11473</th>\n",
       "      <td>22.200000</td>\n",
       "      <td>34.450000</td>\n",
       "      <td>433.0</td>\n",
       "      <td>1778.00</td>\n",
       "      <td>0.005713</td>\n",
       "      <td>1</td>\n",
       "    </tr>\n",
       "    <tr>\n",
       "      <th>11474</th>\n",
       "      <td>22.175000</td>\n",
       "      <td>34.372500</td>\n",
       "      <td>433.0</td>\n",
       "      <td>1774.50</td>\n",
       "      <td>0.005692</td>\n",
       "      <td>1</td>\n",
       "    </tr>\n",
       "  </tbody>\n",
       "</table>\n",
       "</div>"
      ],
      "text/plain": [
       "       Temperature   Humidity  Light      CO2  HumidityRatio  Occupancy\n",
       "2908     21.323333  29.330000    0.0  1760.00       0.004602          0\n",
       "11471    22.150000  34.545000  433.0  1757.75       0.005712          1\n",
       "11472    22.166667  34.496667  433.0  1779.00       0.005709          1\n",
       "11473    22.200000  34.450000  433.0  1778.00       0.005713          1\n",
       "11474    22.175000  34.372500  433.0  1774.50       0.005692          1"
      ]
     },
     "execution_count": 33,
     "metadata": {},
     "output_type": "execute_result"
    }
   ],
   "source": [
    "# Outliers para a variável CO2\n",
    "outliers_co2 = df[(df['CO2'] > 1750)] \n",
    "outliers_co2.head()"
   ]
  },
  {
   "cell_type": "code",
   "execution_count": 34,
   "id": "fc775073",
   "metadata": {},
   "outputs": [],
   "source": [
    "n_df = df"
   ]
  },
  {
   "cell_type": "code",
   "execution_count": 35,
   "id": "bef6bf2a",
   "metadata": {},
   "outputs": [
    {
     "data": {
      "text/plain": [
       "<AxesSubplot:xlabel='CO2'>"
      ]
     },
     "execution_count": 35,
     "metadata": {},
     "output_type": "execute_result"
    },
    {
     "data": {
      "image/png": "[encoded data removed]",
      "text/plain": [
       "<Figure size 576x396 with 1 Axes>"
      ]
     },
     "metadata": {},
     "output_type": "display_data"
    }
   ],
   "source": [
    "n_df = n_df.drop(n_df[(n_df['CO2'] > 1750)].index)\n",
    "sns.boxplot(n_df[\"CO2\"])"
   ]
  },
  {
   "cell_type": "code",
   "execution_count": 36,
   "id": "7751ead8",
   "metadata": {},
   "outputs": [
    {
     "data": {
      "text/html": [
       "<div>\n",
       "<style scoped>\n",
       "    .dataframe tbody tr th:only-of-type {\n",
       "        vertical-align: middle;\n",
       "    }\n",
       "\n",
       "    .dataframe tbody tr th {\n",
       "        vertical-align: top;\n",
       "    }\n",
       "\n",
       "    .dataframe thead th {\n",
       "        text-align: right;\n",
       "    }\n",
       "</style>\n",
       "<table border=\"1\" class=\"dataframe\">\n",
       "  <thead>\n",
       "    <tr style=\"text-align: right;\">\n",
       "      <th></th>\n",
       "      <th>Temperature</th>\n",
       "      <th>Humidity</th>\n",
       "      <th>Light</th>\n",
       "      <th>CO2</th>\n",
       "      <th>HumidityRatio</th>\n",
       "      <th>Occupancy</th>\n",
       "    </tr>\n",
       "  </thead>\n",
       "  <tbody>\n",
       "    <tr>\n",
       "      <th>2601</th>\n",
       "      <td>22.600</td>\n",
       "      <td>25.4725</td>\n",
       "      <td>1419.50</td>\n",
       "      <td>945.00</td>\n",
       "      <td>0.004319</td>\n",
       "      <td>1</td>\n",
       "    </tr>\n",
       "    <tr>\n",
       "      <th>2602</th>\n",
       "      <td>22.700</td>\n",
       "      <td>25.5000</td>\n",
       "      <td>1697.25</td>\n",
       "      <td>951.75</td>\n",
       "      <td>0.004350</td>\n",
       "      <td>1</td>\n",
       "    </tr>\n",
       "    <tr>\n",
       "      <th>2603</th>\n",
       "      <td>22.700</td>\n",
       "      <td>25.4560</td>\n",
       "      <td>1209.80</td>\n",
       "      <td>958.60</td>\n",
       "      <td>0.004343</td>\n",
       "      <td>1</td>\n",
       "    </tr>\n",
       "    <tr>\n",
       "      <th>3803</th>\n",
       "      <td>22.772</td>\n",
       "      <td>25.2900</td>\n",
       "      <td>1380.00</td>\n",
       "      <td>1202.50</td>\n",
       "      <td>0.004333</td>\n",
       "      <td>1</td>\n",
       "    </tr>\n",
       "    <tr>\n",
       "      <th>3804</th>\n",
       "      <td>22.790</td>\n",
       "      <td>25.2900</td>\n",
       "      <td>1581.00</td>\n",
       "      <td>1211.50</td>\n",
       "      <td>0.004338</td>\n",
       "      <td>1</td>\n",
       "    </tr>\n",
       "  </tbody>\n",
       "</table>\n",
       "</div>"
      ],
      "text/plain": [
       "      Temperature  Humidity    Light      CO2  HumidityRatio  Occupancy\n",
       "2601       22.600   25.4725  1419.50   945.00       0.004319          1\n",
       "2602       22.700   25.5000  1697.25   951.75       0.004350          1\n",
       "2603       22.700   25.4560  1209.80   958.60       0.004343          1\n",
       "3803       22.772   25.2900  1380.00  1202.50       0.004333          1\n",
       "3804       22.790   25.2900  1581.00  1211.50       0.004338          1"
      ]
     },
     "execution_count": 36,
     "metadata": {},
     "output_type": "execute_result"
    }
   ],
   "source": [
    "# Outliers para a variável Light\n",
    "outliers_light = df[(df['Light'] > 1000)] \n",
    "outliers_light.head()"
   ]
  },
  {
   "cell_type": "code",
   "execution_count": 37,
   "id": "50f949cb",
   "metadata": {},
   "outputs": [
    {
     "data": {
      "text/plain": [
       "<AxesSubplot:xlabel='Light'>"
      ]
     },
     "execution_count": 37,
     "metadata": {},
     "output_type": "execute_result"
    },
    {
     "data": {
      "image/png": "[encoded data removed]",
      "text/plain": [
       "<Figure size 576x396 with 1 Axes>"
      ]
     },
     "metadata": {},
     "output_type": "display_data"
    }
   ],
   "source": [
    "n_df = n_df.drop(n_df[(n_df['Light'] > 1000)].index)\n",
    "sns.boxplot(n_df[\"Light\"])"
   ]
  },
  {
   "cell_type": "code",
   "execution_count": 38,
   "id": "707c52a5",
   "metadata": {},
   "outputs": [],
   "source": [
    "# Coletando x e y\n",
    "x_sc = n_df.iloc[:,:-1]\n",
    "y_sc = n_df['Occupancy'].values"
   ]
  },
  {
   "cell_type": "code",
   "execution_count": 39,
   "id": "441f401c",
   "metadata": {},
   "outputs": [
    {
     "name": "stdout",
     "output_type": "stream",
     "text": [
      "Conjunto de Atributos Usados    :  ['Temperature', 'Humidity', 'Light', 'CO2', 'HumidityRatio']\n",
      "Variável Target        :  Occupancy\n",
      "Shape do Dataset de Treino   :  (9933, 5)\n",
      "Shape do Dataset de Teste       :  (2484, 5)\n"
     ]
    }
   ],
   "source": [
    "# Dividindo o conjunto de dados em Conjunto de treinamento e Conjunto de teste\n",
    "x_sc, y_sc = train_test_split(n_df, \n",
    "                        test_size = 0.2, \n",
    "                        train_size = 0.8, \n",
    "                        random_state= 3)\n",
    "\n",
    "x_sc1 = x[Features]    \n",
    "x_sc2 = x[Target]      \n",
    "y_sc1 = y[Features]    \n",
    "y_sc2 = y[Target]      \n",
    "\n",
    "print('Conjunto de Atributos Usados    : ', Features)\n",
    "print('Variável Target        : ', Target)\n",
    "print('Shape do Dataset de Treino   : ', x_sc1.shape)\n",
    "print('Shape do Dataset de Teste       : ', y_sc1.shape)"
   ]
  },
  {
   "cell_type": "code",
   "execution_count": 40,
   "id": "abae7f1b",
   "metadata": {},
   "outputs": [],
   "source": [
    "# Gerando o novo padrão\n",
    "scaler = StandardScaler().fit(x_sc1,y_sc1)\n",
    "x_sc = scaler.transform(x_sc1)\n",
    "y_sc = scaler.transform(y_sc1)"
   ]
  },
  {
   "cell_type": "code",
   "execution_count": 41,
   "id": "62d56fa1",
   "metadata": {},
   "outputs": [
    {
     "name": "stdout",
     "output_type": "stream",
     "text": [
      "Dados Originais: \n",
      "\n",
      "        Temperature   Humidity  Light          CO2  HumidityRatio\n",
      "1921        20.890  25.700000    0.0   581.750000       0.003923\n",
      "115         22.890  28.100000  429.0  1087.500000       0.004853\n",
      "2330        20.700  24.500000    0.0   473.250000       0.003695\n",
      "8985        20.260  29.426667    0.0   732.333333       0.004323\n",
      "6871        20.390  35.090000   89.5   496.750000       0.005204\n",
      "...            ...        ...    ...          ...            ...\n",
      "9750        21.575  28.050000  464.0   897.500000       0.004469\n",
      "4368        21.500  28.290000    0.0   564.000000       0.004487\n",
      "7226        19.890  35.400000    0.0   522.000000       0.005089\n",
      "11052       21.290  31.390000  433.0   982.000000       0.004918\n",
      "3799        22.675  25.267500  592.5  1167.500000       0.004304\n",
      "\n",
      "[2484 rows x 5 columns]\n",
      "\n",
      "Dados Padronizados: \n",
      "\n",
      " [[-0.18945275 -0.78357788 -0.62332379 -0.55344268 -0.91819408]\n",
      " [ 1.7408608  -0.20212239  1.34171206  1.16205856  0.64734228]\n",
      " [-0.37283253 -1.07430563 -0.62332379 -0.92147409 -1.30177904]\n",
      " ...\n",
      " [-1.15460952  1.56647139 -0.62332379 -0.75611436  1.0442121 ]\n",
      " [ 0.19660996  0.59495617  1.36003407  0.80420313  0.7566176 ]\n",
      " [ 1.53335209 -0.88836101  2.09062432  1.43341812 -0.27715454]]\n"
     ]
    }
   ],
   "source": [
    "print(\"Dados Originais: \\n\\n\", y1)\n",
    "print(\"\\nDados Padronizados: \\n\\n\", y_sc)"
   ]
  },
  {
   "cell_type": "markdown",
   "id": "320be969",
   "metadata": {},
   "source": [
    "***Regressão Ligistica com Escala nos Dados***"
   ]
  },
  {
   "cell_type": "code",
   "execution_count": 42,
   "id": "d4bd437e",
   "metadata": {},
   "outputs": [],
   "source": [
    "#model create\n",
    "lr_model_scaler = linear_model.LogisticRegression()\n",
    "\n",
    "#training\n",
    "lr_model_scaler.fit(X= x_sc,\n",
    "           y=x_sc2)\n",
    "\n",
    "# Prediction\n",
    "result = lr_model_scaler.predict(y_sc)"
   ]
  },
  {
   "cell_type": "code",
   "execution_count": 43,
   "id": "f3bbabc0",
   "metadata": {},
   "outputs": [
    {
     "data": {
      "text/plain": [
       "((2484, 5), (2484, 5))"
      ]
     },
     "execution_count": 43,
     "metadata": {},
     "output_type": "execute_result"
    }
   ],
   "source": [
    "y_sc.shape , y_sc1.shape"
   ]
  },
  {
   "cell_type": "code",
   "execution_count": 44,
   "id": "d5b8ea49",
   "metadata": {},
   "outputs": [
    {
     "name": "stdout",
     "output_type": "stream",
     "text": [
      "\n",
      "========== Métricas do Modelo Random Forest ==========\n",
      "Accuracy    :  0.9919484702093397\n",
      "Recall      :  0.9919484702093397\n",
      "Precision   :  0.9920843718779455\n",
      "F1 Score    :  0.9919484702093397\n",
      "Confusion Matrix:\n",
      " \n",
      "[[1821   17]\n",
      " [   3  643]]\n"
     ]
    }
   ],
   "source": [
    "# Avaliação do Modelo\n",
    "ac_sc = accuracy_score(y_sc2, result)\n",
    "rc_sc = recall_score(y_sc2, result, average=\"weighted\")\n",
    "pr_sc = precision_score(y_sc2, result, average=\"weighted\")\n",
    "f1_sc = f1_score(y_sc2, result, average='micro')\n",
    "confusion_m = confusion_matrix(y_sc2, result)\n",
    "\n",
    "print(\"\\n========== Métricas do Modelo Random Forest ==========\")\n",
    "print(\"Accuracy    : \", ac_sc)\n",
    "print(\"Recall      : \", rc_sc)\n",
    "print(\"Precision   : \", pr_sc)\n",
    "print(\"F1 Score    : \", f1_sc)\n",
    "print(\"Confusion Matrix:\\n \")\n",
    "print(confusion_m)"
   ]
  },
  {
   "cell_type": "code",
   "execution_count": 45,
   "id": "ba038eab",
   "metadata": {},
   "outputs": [
    {
     "name": "stdout",
     "output_type": "stream",
     "text": [
      "================= Relatório de Classificação =================\n",
      "\n",
      "              precision    recall  f1-score   support\n",
      "\n",
      "           0       1.00      0.99      0.99      1838\n",
      "           1       0.97      1.00      0.98       646\n",
      "\n",
      "    accuracy                           0.99      2484\n",
      "   macro avg       0.99      0.99      0.99      2484\n",
      "weighted avg       0.99      0.99      0.99      2484\n",
      "\n"
     ]
    },
    {
     "data": {
      "image/png": "[encoded data removed]",
      "text/plain": [
       "<Figure size 576x396 with 2 Axes>"
      ]
     },
     "metadata": {},
     "output_type": "display_data"
    }
   ],
   "source": [
    "# Relatório de Classificação\n",
    "target_names = Classes\n",
    "visualizer = ClassificationReport(lr_model_scaler, classes=['Nao Ocupado','Ocupado'])\n",
    "visualizer.fit(X=x_sc, y=x_sc2)    \n",
    "visualizer.score(y_sc, y_sc2)       \n",
    "\n",
    "print('================= Relatório de Classificação =================')\n",
    "print('')\n",
    "print(classification_report(y_sc2, result))\n",
    "\n",
    "g = visualizer.poof()"
   ]
  },
  {
   "cell_type": "markdown",
   "id": "b490f562",
   "metadata": {},
   "source": [
    "***Randon Forest Scala no Dados***"
   ]
  },
  {
   "cell_type": "code",
   "execution_count": 46,
   "id": "7fbd2b21",
   "metadata": {},
   "outputs": [],
   "source": [
    "#model create\n",
    "rf_model_scaler = RandomForestClassifier(n_estimators=70, # Number of trees\n",
    "                                  min_samples_split = 30,\n",
    "                                  bootstrap = True, \n",
    "                                  max_depth = 50, \n",
    "                                  min_samples_leaf = 25)\n",
    "\n",
    "#training\n",
    "rf_model_scaler.fit(X= x_sc,\n",
    "           y=x_sc2)\n",
    "\n",
    "# Prediction\n",
    "result_1 = rf_model_scaler.predict(y_sc)"
   ]
  },
  {
   "cell_type": "code",
   "execution_count": 47,
   "id": "de870350",
   "metadata": {},
   "outputs": [
    {
     "name": "stdout",
     "output_type": "stream",
     "text": [
      "\n",
      "========== Métricas do Modelo Random Forest ==========\n",
      "Accuracy    :  0.9931561996779388\n",
      "Recall      :  0.9931561996779388\n",
      "Precision   :  0.9932990571810377\n",
      "F1 Score    :  0.9931561996779388\n",
      "Confusion Matrix:\n",
      " \n",
      "[[1822   16]\n",
      " [   1  645]]\n"
     ]
    }
   ],
   "source": [
    "# Avaliação do Modelo\n",
    "ac_sc = accuracy_score(y_sc2, result_1)\n",
    "rc_sc = recall_score(y_sc2, result_1, average=\"weighted\")\n",
    "pr_sc = precision_score(y_sc2, result_1, average=\"weighted\")\n",
    "f1_sc = f1_score(y_sc2, result_1, average='micro')\n",
    "confusion_m = confusion_matrix(y_sc2, result_1)\n",
    "\n",
    "print(\"\\n========== Métricas do Modelo Random Forest ==========\")\n",
    "print(\"Accuracy    : \", ac_sc)\n",
    "print(\"Recall      : \", rc_sc)\n",
    "print(\"Precision   : \", pr_sc)\n",
    "print(\"F1 Score    : \", f1_sc)\n",
    "print(\"Confusion Matrix:\\n \")\n",
    "print(confusion_m)"
   ]
  },
  {
   "cell_type": "code",
   "execution_count": 48,
   "id": "c792e319",
   "metadata": {},
   "outputs": [
    {
     "name": "stdout",
     "output_type": "stream",
     "text": [
      "================= Relatório de Classificação =================\n",
      "\n",
      "              precision    recall  f1-score   support\n",
      "\n",
      "           0       1.00      0.99      1.00      1838\n",
      "           1       0.98      1.00      0.99       646\n",
      "\n",
      "    accuracy                           0.99      2484\n",
      "   macro avg       0.99      0.99      0.99      2484\n",
      "weighted avg       0.99      0.99      0.99      2484\n",
      "\n"
     ]
    },
    {
     "data": {
      "image/png": "[encoded data removed]",
      "text/plain": [
       "<Figure size 576x396 with 2 Axes>"
      ]
     },
     "metadata": {},
     "output_type": "display_data"
    }
   ],
   "source": [
    "# Relatório de Classificação\n",
    "target_names = Classes\n",
    "visualizer = ClassificationReport(rf_model_scaler, classes=['Nao Ocupado','Ocupado'])\n",
    "visualizer.fit(X=x_sc, y=x_sc2)    \n",
    "visualizer.score(y_sc, y_sc2)       \n",
    "\n",
    "print('================= Relatório de Classificação =================')\n",
    "print('')\n",
    "print(classification_report(y_sc2, result_1))\n",
    "\n",
    "g = visualizer.poof() "
   ]
  },
  {
   "cell_type": "code",
   "execution_count": 49,
   "id": "f006b04f",
   "metadata": {},
   "outputs": [
    {
     "data": {
      "text/plain": [
       "array([[-1.2511252 ,  1.51801676, -0.62332379, -0.7264344 ,  0.94238344],\n",
       "       [-0.22162464, -0.59864274, -0.62332379,  2.12481967, -0.73491663],\n",
       "       [-0.0832855 , -0.83203251, -0.55919675, -0.75611436, -0.92515281],\n",
       "       ...,\n",
       "       [ 0.97838695,  1.29754822, -0.62332379,  2.72746404,  1.99108757],\n",
       "       [ 1.07490262,  0.21337601, -0.62332379,  1.3248743 ,  0.79120768],\n",
       "       [-0.90366876,  0.62160622, -0.62332379, -0.78325031,  0.21855585]])"
      ]
     },
     "execution_count": 49,
     "metadata": {},
     "output_type": "execute_result"
    }
   ],
   "source": [
    "x_sc"
   ]
  },
  {
   "cell_type": "markdown",
   "id": "3e33e681",
   "metadata": {},
   "source": [
    "***KNeighbors KNN com Escala nos Dados***"
   ]
  },
  {
   "cell_type": "code",
   "execution_count": 50,
   "id": "b948818a",
   "metadata": {},
   "outputs": [],
   "source": [
    "# KNN\n",
    "knn_model_scaler = KNeighborsClassifier(n_neighbors=3)\n",
    "\n",
    "# Model Training\n",
    "knn_model_scaler.fit(X=x_sc, y=x_sc2)\n",
    "\n",
    "# Prediction\n",
    "result_2 = knn_model_scaler.predict(y_sc)"
   ]
  },
  {
   "cell_type": "code",
   "execution_count": 51,
   "id": "dc794e58",
   "metadata": {},
   "outputs": [
    {
     "name": "stdout",
     "output_type": "stream",
     "text": [
      "========== K-Nearest Neighbors ==========\n",
      "Accuracy    :  0.9931561996779388\n",
      "Recall      :  0.9931561996779388\n",
      "Precision   :  0.9931493722929878\n",
      "F1 Score    :  0.9931561996779388\n",
      "Confusion Matrix: \n",
      "\n",
      "[[1821   17]\n",
      " [   3  643]]\n"
     ]
    }
   ],
   "source": [
    "# Model Evaluation\n",
    "ac_sc = accuracy_score(y_sc2, result_2)\n",
    "rc_sc = recall_score(y_sc2, result_2, average=\"weighted\")\n",
    "pr_sc = precision_score(y_sc2, result_2, average=\"weighted\")\n",
    "f1_sc = f1_score(y_sc2, result_2, average='micro')\n",
    "confusion_m = confusion_matrix(y_sc2, result)\n",
    "\n",
    "print(\"========== K-Nearest Neighbors ==========\")\n",
    "print(\"Accuracy    : \", ac_sc)\n",
    "print(\"Recall      : \", rc_sc)\n",
    "print(\"Precision   : \", pr_sc)\n",
    "print(\"F1 Score    : \", f1_sc)\n",
    "print(\"Confusion Matrix: \\n\")\n",
    "print(confusion_m)"
   ]
  },
  {
   "cell_type": "code",
   "execution_count": 52,
   "id": "3bfacacd",
   "metadata": {},
   "outputs": [
    {
     "name": "stdout",
     "output_type": "stream",
     "text": [
      "================= Relatório de Classificação =================\n",
      "\n",
      "              precision    recall  f1-score   support\n",
      "\n",
      "           0       0.99      1.00      1.00      1838\n",
      "           1       0.99      0.98      0.99       646\n",
      "\n",
      "    accuracy                           0.99      2484\n",
      "   macro avg       0.99      0.99      0.99      2484\n",
      "weighted avg       0.99      0.99      0.99      2484\n",
      "\n"
     ]
    },
    {
     "data": {
      "image/png": "[encoded data removed]",
      "text/plain": [
       "<Figure size 576x396 with 2 Axes>"
      ]
     },
     "metadata": {},
     "output_type": "display_data"
    }
   ],
   "source": [
    "# Relatório de Classificação\n",
    "target_names = Classes\n",
    "visualizer = ClassificationReport(knn_model_scaler, classes=['Nao Ocupado','Ocupado'])\n",
    "visualizer.fit(X=x_sc, y=x_sc2)    \n",
    "visualizer.score(y_sc, y_sc2)       \n",
    "\n",
    "print('================= Relatório de Classificação =================')\n",
    "print('')\n",
    "print(classification_report(y_sc2, result_2))\n",
    "\n",
    "g = visualizer.poof() "
   ]
  },
  {
   "cell_type": "markdown",
   "id": "ce92b44c",
   "metadata": {},
   "source": [
    "# ***Seleção de Atributos***"
   ]
  },
  {
   "cell_type": "markdown",
   "id": "343cf34d",
   "metadata": {},
   "source": [
    "***Com base em alguns teste chegou-se à conclusão que as variáveis: Light - CO2 - HumidityRatio, fariam parte de modelos finais.***"
   ]
  },
  {
   "cell_type": "code",
   "execution_count": 53,
   "id": "945c5441",
   "metadata": {},
   "outputs": [
    {
     "name": "stdout",
     "output_type": "stream",
     "text": [
      "Full Features:  ['Light', 'CO2', 'HumidityRatio']\n"
     ]
    }
   ],
   "source": [
    "# No ponto atual, os atributos são selecionados manualmente com base na seleção de recursos. \n",
    "Features_select = [\"Light\", \"CO2\", \"HumidityRatio\"]\n",
    "print('Full Features: ', Features_select)"
   ]
  },
  {
   "cell_type": "code",
   "execution_count": 54,
   "id": "865e925b",
   "metadata": {},
   "outputs": [
    {
     "name": "stdout",
     "output_type": "stream",
     "text": [
      "Conjunto de Atributos Usados    :  ['Light', 'CO2', 'HumidityRatio']\n",
      "Variável Target        :  Occupancy\n",
      "Shape do Dataset de Treino   :  (9933, 3)\n",
      "Shape do Dataset de Teste       :  (2484, 3)\n"
     ]
    }
   ],
   "source": [
    "# Dividindo o conjunto de dados em Conjunto de treinamento e Conjunto de teste\n",
    "x_sec, y_sec = train_test_split(n_df, \n",
    "                        test_size = 0.2, \n",
    "                        train_size = 0.8, \n",
    "                        random_state= 3)\n",
    "\n",
    "x_sec1 = x[Features_select]    \n",
    "x_sec2 = x[Target]      \n",
    "y_sec1 = y[Features_select]    \n",
    "y_sec2 = y[Target]      \n",
    "\n",
    "print('Conjunto de Atributos Usados    : ', Features_select)\n",
    "print('Variável Target        : ', Target)\n",
    "print('Shape do Dataset de Treino   : ', x_sec1.shape)\n",
    "print('Shape do Dataset de Teste       : ', y_sec1.shape)"
   ]
  },
  {
   "cell_type": "code",
   "execution_count": 55,
   "id": "c765ebe6",
   "metadata": {},
   "outputs": [],
   "source": [
    "# Gerando o novo padrão\n",
    "scaler = StandardScaler().fit(x_sec1,y_sec1)\n",
    "x_sec1 = scaler.transform(x_sec1)\n",
    "y_sec1 = scaler.transform(y_sec1)"
   ]
  },
  {
   "cell_type": "markdown",
   "id": "d576c337",
   "metadata": {},
   "source": [
    "***Regressão Logistica com Seleção de Atributos***"
   ]
  },
  {
   "cell_type": "code",
   "execution_count": 56,
   "id": "6a14d52d",
   "metadata": {},
   "outputs": [],
   "source": [
    "#model create\n",
    "lr_model_sc = linear_model.LogisticRegression()\n",
    "\n",
    "#training\n",
    "lr_model_sc.fit(X= x_sec1,\n",
    "           y=x_sec2)\n",
    "\n",
    "# Prediction\n",
    "result = lr_model_sc.predict(y_sec1)"
   ]
  },
  {
   "cell_type": "code",
   "execution_count": 57,
   "id": "3ac9393c",
   "metadata": {},
   "outputs": [
    {
     "name": "stdout",
     "output_type": "stream",
     "text": [
      "\n",
      "========== Métricas do Modelo Logistic Regression ==========\n",
      "Accuracy    :  0.9923510466988728\n",
      "Recall      :  0.9923510466988728\n",
      "Precision   :  0.9925330929676368\n",
      "F1 Score    :  0.9923510466988728\n",
      "Confusion Matrix:\n",
      " \n",
      "[[1820   18]\n",
      " [   1  645]]\n"
     ]
    }
   ],
   "source": [
    "# Avaliação do Modelo\n",
    "ac_sc = accuracy_score(y_sec2, result)\n",
    "rc_sc = recall_score(y_sec2, result, average=\"weighted\")\n",
    "pr_sc = precision_score(y_sec2, result, average=\"weighted\")\n",
    "f1_sc = f1_score(y_sec2, result, average='micro')\n",
    "confusion_m = confusion_matrix(y_sec2, result)\n",
    "\n",
    "print(\"\\n========== Métricas do Modelo Logistic Regression ==========\")\n",
    "print(\"Accuracy    : \", ac_sc)\n",
    "print(\"Recall      : \", rc_sc)\n",
    "print(\"Precision   : \", pr_sc)\n",
    "print(\"F1 Score    : \", f1_sc)\n",
    "print(\"Confusion Matrix:\\n \")\n",
    "print(confusion_m)"
   ]
  },
  {
   "cell_type": "code",
   "execution_count": 58,
   "id": "1e62cc47",
   "metadata": {},
   "outputs": [
    {
     "name": "stdout",
     "output_type": "stream",
     "text": [
      "================= Relatório de Classificação =================\n",
      "\n",
      "              precision    recall  f1-score   support\n",
      "\n",
      "           0       1.00      0.99      0.99      1838\n",
      "           1       0.97      1.00      0.99       646\n",
      "\n",
      "    accuracy                           0.99      2484\n",
      "   macro avg       0.99      0.99      0.99      2484\n",
      "weighted avg       0.99      0.99      0.99      2484\n",
      "\n"
     ]
    },
    {
     "data": {
      "image/png": "[encoded data removed]",
      "text/plain": [
       "<Figure size 576x396 with 2 Axes>"
      ]
     },
     "metadata": {},
     "output_type": "display_data"
    }
   ],
   "source": [
    "# Relatório de Classificação\n",
    "target_names = Classes\n",
    "visualizer = ClassificationReport(lr_model_sc, classes=['Nao Ocupado','Ocupado'],cmap=\"PuBu\")\n",
    "visualizer.fit(X=x_sec1, y=x_sec2)    \n",
    "visualizer.score(y_sec1, y_sec2)       \n",
    "\n",
    "print('================= Relatório de Classificação =================')\n",
    "print('')\n",
    "print(classification_report(y_sec2, result))\n",
    "\n",
    "g = visualizer.poof()"
   ]
  },
  {
   "cell_type": "markdown",
   "id": "b5812ae1",
   "metadata": {},
   "source": [
    "***Random Forest com Seleção de Atributos***"
   ]
  },
  {
   "cell_type": "code",
   "execution_count": 59,
   "id": "a37eebd1",
   "metadata": {},
   "outputs": [],
   "source": [
    "#model create\n",
    "rf_model_sc = RandomForestClassifier(n_estimators=70, # Number of trees\n",
    "                                  min_samples_split = 30,\n",
    "                                  bootstrap = True, \n",
    "                                  max_depth = 50, \n",
    "                                  min_samples_leaf = 25)\n",
    "\n",
    "#training\n",
    "rf_model_sc.fit(X= x_sec1,\n",
    "           y=x_sec2)\n",
    "\n",
    "# Prediction\n",
    "result_1 = rf_model_sc.predict(y_sec1)"
   ]
  },
  {
   "cell_type": "code",
   "execution_count": 60,
   "id": "476c5181",
   "metadata": {},
   "outputs": [
    {
     "name": "stdout",
     "output_type": "stream",
     "text": [
      "\n",
      "========== Métricas do Modelo Random Forest ==========\n",
      "Accuracy    :  0.9923510466988728\n",
      "Recall      :  0.9923510466988728\n",
      "Precision   :  0.9925330929676368\n",
      "F1 Score    :  0.9923510466988728\n",
      "Confusion Matrix:\n",
      " \n",
      "[[1820   18]\n",
      " [   1  645]]\n"
     ]
    }
   ],
   "source": [
    "# Avaliação do Modelo\n",
    "ac_sc = accuracy_score(y_sec2, result)\n",
    "rc_sc = recall_score(y_sec2, result, average=\"weighted\")\n",
    "pr_sc = precision_score(y_sec2, result, average=\"weighted\")\n",
    "f1_sc = f1_score(y_sec2, result, average='micro')\n",
    "confusion_m = confusion_matrix(y_sec2, result)\n",
    "\n",
    "print(\"\\n========== Métricas do Modelo Random Forest ==========\")\n",
    "print(\"Accuracy    : \", ac_sc)\n",
    "print(\"Recall      : \", rc_sc)\n",
    "print(\"Precision   : \", pr_sc)\n",
    "print(\"F1 Score    : \", f1_sc)\n",
    "print(\"Confusion Matrix:\\n \")\n",
    "print(confusion_m)"
   ]
  },
  {
   "cell_type": "code",
   "execution_count": 61,
   "id": "446d6860",
   "metadata": {},
   "outputs": [
    {
     "name": "stdout",
     "output_type": "stream",
     "text": [
      "================= Relatório de Classificação =================\n",
      "\n",
      "              precision    recall  f1-score   support\n",
      "\n",
      "           0       1.00      0.99      0.99      1838\n",
      "           1       0.97      1.00      0.99       646\n",
      "\n",
      "    accuracy                           0.99      2484\n",
      "   macro avg       0.99      0.99      0.99      2484\n",
      "weighted avg       0.99      0.99      0.99      2484\n",
      "\n"
     ]
    },
    {
     "data": {
      "image/png": "[encoded data removed]",
      "text/plain": [
       "<Figure size 576x396 with 2 Axes>"
      ]
     },
     "metadata": {},
     "output_type": "display_data"
    }
   ],
   "source": [
    "# Relatório de Classificação\n",
    "target_names = Classes\n",
    "visualizer = ClassificationReport(rf_model_sc, classes=['Nao Ocupado','Ocupado'],cmap=\"PuBu\")\n",
    "visualizer.fit(X=x_sec1, y=x_sec2)    \n",
    "visualizer.score(y_sec1, y_sec2)       \n",
    "\n",
    "print('================= Relatório de Classificação =================')\n",
    "print('')\n",
    "print(classification_report(y_sec2, result))\n",
    "\n",
    "g = visualizer.poof()"
   ]
  },
  {
   "cell_type": "markdown",
   "id": "cdeaf78e",
   "metadata": {},
   "source": [
    "***KNeighbors KNN com Seleção de Atributos***"
   ]
  },
  {
   "cell_type": "code",
   "execution_count": 62,
   "id": "383e8ab2",
   "metadata": {},
   "outputs": [],
   "source": [
    "# KNN\n",
    "knn_model_sc = KNeighborsClassifier(n_neighbors=3)\n",
    "\n",
    "# Model Training\n",
    "knn_model_sc.fit(X=x_sec1, y=x_sec2)\n",
    "\n",
    "# Prediction\n",
    "result_2 = knn_model_sc.predict(y_sec1)"
   ]
  },
  {
   "cell_type": "code",
   "execution_count": 63,
   "id": "1a3bbce3",
   "metadata": {},
   "outputs": [
    {
     "name": "stdout",
     "output_type": "stream",
     "text": [
      "========== K-Nearest Neighbors ==========\n",
      "Accuracy    :  0.9931561996779388\n",
      "Recall      :  0.9931561996779388\n",
      "Precision   :  0.9931531766760611\n",
      "F1 Score    :  0.9931561996779388\n",
      "Confusion Matrix: \n",
      "\n",
      "[[1820   18]\n",
      " [   1  645]]\n"
     ]
    }
   ],
   "source": [
    "# Model Evaluation\n",
    "ac_sc = accuracy_score(y_sc2, result_2)\n",
    "rc_sc = recall_score(y_sc2, result_2, average=\"weighted\")\n",
    "pr_sc = precision_score(y_sc2, result_2, average=\"weighted\")\n",
    "f1_sc = f1_score(y_sc2, result_2, average='micro')\n",
    "confusion_m = confusion_matrix(y_sc2, result)\n",
    "\n",
    "print(\"========== K-Nearest Neighbors ==========\")\n",
    "print(\"Accuracy    : \", ac_sc)\n",
    "print(\"Recall      : \", rc_sc)\n",
    "print(\"Precision   : \", pr_sc)\n",
    "print(\"F1 Score    : \", f1_sc)\n",
    "print(\"Confusion Matrix: \\n\")\n",
    "print(confusion_m)"
   ]
  },
  {
   "cell_type": "code",
   "execution_count": 64,
   "id": "bb21cbb0",
   "metadata": {},
   "outputs": [
    {
     "name": "stdout",
     "output_type": "stream",
     "text": [
      "================= Relatório de Classificação =================\n",
      "\n",
      "              precision    recall  f1-score   support\n",
      "\n",
      "           0       1.00      1.00      1.00      1838\n",
      "           1       0.99      0.99      0.99       646\n",
      "\n",
      "    accuracy                           0.99      2484\n",
      "   macro avg       0.99      0.99      0.99      2484\n",
      "weighted avg       0.99      0.99      0.99      2484\n",
      "\n"
     ]
    },
    {
     "data": {
      "image/png": "[encoded data removed]",
      "text/plain": [
       "<Figure size 576x396 with 2 Axes>"
      ]
     },
     "metadata": {},
     "output_type": "display_data"
    }
   ],
   "source": [
    "# Relatório de Classificação\n",
    "target_names = Classes\n",
    "visualizer = ClassificationReport(knn_model_sc, classes=['Nao Ocupado','Ocupado'])\n",
    "visualizer.fit(X=x_sec1, y=x_sc2)    \n",
    "visualizer.score(y_sec1, y_sc2)       \n",
    "\n",
    "print('================= Relatório de Classificação =================')\n",
    "print('')\n",
    "print(classification_report(y_sec2, result_2))\n",
    "\n",
    "g = visualizer.poof()"
   ]
  },
  {
   "cell_type": "markdown",
   "id": "371fbdfd",
   "metadata": {},
   "source": [
    "***Apresentando ao Modelo Novos Dados para Previsão***"
   ]
  },
  {
   "cell_type": "code",
   "execution_count": 65,
   "id": "2a147713",
   "metadata": {},
   "outputs": [
    {
     "name": "stdout",
     "output_type": "stream",
     "text": [
      "================= Previsão para Modelo de  Classificação =================\n",
      "Taxa Média de Ocupação Para a Sala é: [0]\n",
      "Não Ocupado!\n"
     ]
    }
   ],
   "source": [
    "# Produz a matriz com os novos dados de entrada para a previsão\n",
    "Light = 137.39714\n",
    "CO2 = 743.73061\n",
    "HumidityRatio = 0.00446\n",
    "\n",
    "# Lista com os valores das variáveis\n",
    "dados_novo = [Light, CO2, HumidityRatio]\n",
    "\n",
    "# Reshape\n",
    "Xp = np.array(dados_novo).reshape(1, -1)\n",
    "\n",
    "#escala nos dados\n",
    "novo_scaler = StandardScaler().fit(Xp)\n",
    "novo_scaler = novo_scaler.transform(Xp)\n",
    "\n",
    "# Previsão\n",
    "print('================= Previsão para Modelo de  Classificação =================')\n",
    "print(\"Taxa Média de Ocupação Para a Sala é:\", knn_model_sc.predict(Xp))\n",
    "pred = knn_model_sc.predict(Xp)\n",
    "if pred[0] == 1:\n",
    "    print(\"Ocupado!\")\n",
    "else:\n",
    "    print(\"Não Ocupado!\")"
   ]
  },
  {
   "cell_type": "markdown",
   "id": "5e5f148b",
   "metadata": {},
   "source": [
    "# ***Conclusão***"
   ]
  },
  {
   "cell_type": "markdown",
   "id": "673be535",
   "metadata": {},
   "source": [
    "***Os modelos criados contém precisão altíssima, muito pela Engenharia de Atributos realizada; como também pelo conjunto de Dados***\n",
    "\n",
    "***ser extremamente bem coletado e simples de compreender\n",
    "\n",
    "A conclusão a ser tirada seria que Ambos Algoritimos utilizados neste projeto para prever a ocupacão em ambientes teriam uma \n",
    "\n",
    "preformance excelente***"
   ]
  },
  {
   "cell_type": "markdown",
   "id": "968e3b76",
   "metadata": {},
   "source": [
    "# ***FIM!***"
   ]
  }
 ],
 "metadata": {
  "kernelspec": {
   "display_name": "Python 3 (ipykernel)",
   "language": "python",
   "name": "python3"
  },
  "language_info": {
   "codemirror_mode": {
    "name": "ipython",
    "version": 3
   },
   "file_extension": ".py",
   "mimetype": "text/x-python",
   "name": "python",
   "nbconvert_exporter": "python",
   "pygments_lexer": "ipython3",
   "version": "3.7.11"
  }
 },
 "nbformat": 4,
 "nbformat_minor": 5
}
